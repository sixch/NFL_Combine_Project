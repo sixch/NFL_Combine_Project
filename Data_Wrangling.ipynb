{
 "cells": [
  {
   "cell_type": "markdown",
   "metadata": {},
   "source": [
    "# Problem Definition\n",
    "\n",
    "For this project I will investigate NFL combine data to see if it has any predictive value of when a player will be drafted in the NFL draft.  \n",
    "\n",
    "#### Data: \n",
    "The Combine results and draft orders were collected from http://www.nflsavant.com/about.php\n",
    "Along with the players height and weight, the data include the following Combine measurements:\n",
    "\n",
    "#### fortyyd: \n",
    "The 40-yard dash drill is designed to test one’s acceleration and speed. Electronic device is used to measure time to one-hundredth of a second. The athlete sprints from the starting line and runs straight as fast as he could until he passes the completion mark placed at 40-yard.\n",
    "\n",
    "#### vertical: \n",
    "The vertical jump drill measures one’s leg strength and explosiveness. The athlete positions himself under the vanes of Vertec, then jumps straight up by first lowering his body and then pushing against the ground using only his leg strength. While up in the air, the athlete hits the highest vane possible with one of his hands. The measurement is the height of the highest vane subtracted by his standing reach.\n",
    "\n",
    "#### bench: \n",
    "This drill is a good measure of one’s upper body strength. The athlete completes as many bench press repetitions as possible.\n",
    "\n",
    "#### broad: \n",
    "This drill measures one’s lower body strength. The athlete positions himself behind the marked line, then once he is set, jumps horizontally off from both feet. The distance jumped is measured from the start line and to the point of heel contact or to the nearest body part.\n",
    "\n",
    "#### threecone: \n",
    "The 3-cone drill measures one’s agility and ability to change directions. The cones placed in the formation of an upside-down ‘L.’ The athlete starts in three-point stance at cone 1 and runs straight ahead for 5 yards to reach cone 2 and then immediately returns to cone 1. Without stopping, he changes direction and sprints and corners cone 2, and then move right away to cone 3, which is place 5 yards lateral to cone 2. He approaches the inside of cone 3, goes around it, returns and corners cone 2, and then completes the drill by sprinting past cone 1.\n",
    "\n",
    "#### twentyss:\n",
    "This drill is designed to measure one’s speed and body control. The athlete starts in a three-point stance sprints 5 yards in one direction, quickly changes direction and runs 10 yards in the other direction, and then sprints back to the starting point.\n",
    "\n",
    "#### picktotal: \n",
    "A draft order of a player is a specific number assigned to each player. Someone with a lower number of draft order is considered to be more valuable than others with higher numbers. Numbers can vary from 1 to 256."
   ]
  },
  {
   "cell_type": "markdown",
   "metadata": {},
   "source": [
    "# Load the Dataset\n",
    "\n",
    "Start off by loading the libraries required for this project:"
   ]
  },
  {
   "cell_type": "code",
   "execution_count": 1,
   "metadata": {
    "collapsed": true
   },
   "outputs": [],
   "source": [
    "import pandas as pd\n",
    "import numpy as np\n",
    "import os\n",
    "import matplotlib.pyplot as plt\n",
    "from numpy import arange\n",
    "from pandas import read_csv\n",
    "from pandas import set_option\n",
    "import seaborn as sns"
   ]
  },
  {
   "cell_type": "code",
   "execution_count": 2,
   "metadata": {
    "collapsed": true
   },
   "outputs": [],
   "source": [
    "from matplotlib import rcParams\n",
    "rcParams['figure.figsize'] = 10, 8\n",
    "sns.set_context(\"poster\")\n",
    "sns.set_style(\"whitegrid\")"
   ]
  },
  {
   "cell_type": "code",
   "execution_count": 3,
   "metadata": {
    "collapsed": true
   },
   "outputs": [],
   "source": [
    "# Downloaded combine csv to my desktop, therefore change directory to my pc desktop\n",
    "os.chdir('C:\\Users\\chads\\Desktop')"
   ]
  },
  {
   "cell_type": "code",
   "execution_count": 4,
   "metadata": {},
   "outputs": [
    {
     "data": {
      "text/html": [
       "<div>\n",
       "<style>\n",
       "    .dataframe thead tr:only-child th {\n",
       "        text-align: right;\n",
       "    }\n",
       "\n",
       "    .dataframe thead th {\n",
       "        text-align: left;\n",
       "    }\n",
       "\n",
       "    .dataframe tbody tr th {\n",
       "        vertical-align: top;\n",
       "    }\n",
       "</style>\n",
       "<table border=\"1\" class=\"dataframe\">\n",
       "  <thead>\n",
       "    <tr style=\"text-align: right;\">\n",
       "      <th></th>\n",
       "      <th>year</th>\n",
       "      <th>name</th>\n",
       "      <th>firstname</th>\n",
       "      <th>lastname</th>\n",
       "      <th>position</th>\n",
       "      <th>heightfeet</th>\n",
       "      <th>heightinches</th>\n",
       "      <th>heightinchestotal</th>\n",
       "      <th>weight</th>\n",
       "      <th>arms</th>\n",
       "      <th>...</th>\n",
       "      <th>vertical</th>\n",
       "      <th>broad</th>\n",
       "      <th>bench</th>\n",
       "      <th>round</th>\n",
       "      <th>college</th>\n",
       "      <th>pick</th>\n",
       "      <th>pickround</th>\n",
       "      <th>picktotal</th>\n",
       "      <th>wonderlic</th>\n",
       "      <th>nflgrade</th>\n",
       "    </tr>\n",
       "  </thead>\n",
       "  <tbody>\n",
       "    <tr>\n",
       "      <th>0</th>\n",
       "      <td>2015</td>\n",
       "      <td>Ameer Abdullah</td>\n",
       "      <td>Ameer</td>\n",
       "      <td>Abdullah</td>\n",
       "      <td>RB</td>\n",
       "      <td>5</td>\n",
       "      <td>9.0</td>\n",
       "      <td>69.0</td>\n",
       "      <td>205</td>\n",
       "      <td>0.0</td>\n",
       "      <td>...</td>\n",
       "      <td>42.5</td>\n",
       "      <td>130</td>\n",
       "      <td>24</td>\n",
       "      <td>0</td>\n",
       "      <td>Nebraska</td>\n",
       "      <td>NaN</td>\n",
       "      <td>0</td>\n",
       "      <td>0</td>\n",
       "      <td>0</td>\n",
       "      <td>5.9</td>\n",
       "    </tr>\n",
       "    <tr>\n",
       "      <th>1</th>\n",
       "      <td>2015</td>\n",
       "      <td>Nelson Agholor</td>\n",
       "      <td>Nelson</td>\n",
       "      <td>Agholor</td>\n",
       "      <td>WR</td>\n",
       "      <td>6</td>\n",
       "      <td>0.0</td>\n",
       "      <td>72.0</td>\n",
       "      <td>198</td>\n",
       "      <td>0.0</td>\n",
       "      <td>...</td>\n",
       "      <td>0.0</td>\n",
       "      <td>0</td>\n",
       "      <td>12</td>\n",
       "      <td>0</td>\n",
       "      <td>USC</td>\n",
       "      <td>NaN</td>\n",
       "      <td>0</td>\n",
       "      <td>0</td>\n",
       "      <td>0</td>\n",
       "      <td>5.6</td>\n",
       "    </tr>\n",
       "    <tr>\n",
       "      <th>2</th>\n",
       "      <td>2015</td>\n",
       "      <td>Jay Ajayi</td>\n",
       "      <td>Jay</td>\n",
       "      <td>Ajayi</td>\n",
       "      <td>RB</td>\n",
       "      <td>6</td>\n",
       "      <td>0.0</td>\n",
       "      <td>72.0</td>\n",
       "      <td>221</td>\n",
       "      <td>0.0</td>\n",
       "      <td>...</td>\n",
       "      <td>39.0</td>\n",
       "      <td>121</td>\n",
       "      <td>19</td>\n",
       "      <td>0</td>\n",
       "      <td>Boise St.</td>\n",
       "      <td>NaN</td>\n",
       "      <td>0</td>\n",
       "      <td>0</td>\n",
       "      <td>0</td>\n",
       "      <td>6.0</td>\n",
       "    </tr>\n",
       "    <tr>\n",
       "      <th>3</th>\n",
       "      <td>2015</td>\n",
       "      <td>Kwon Alexander</td>\n",
       "      <td>Kwon</td>\n",
       "      <td>Alexander</td>\n",
       "      <td>OLB</td>\n",
       "      <td>6</td>\n",
       "      <td>1.0</td>\n",
       "      <td>73.0</td>\n",
       "      <td>227</td>\n",
       "      <td>0.0</td>\n",
       "      <td>...</td>\n",
       "      <td>36.0</td>\n",
       "      <td>121</td>\n",
       "      <td>24</td>\n",
       "      <td>0</td>\n",
       "      <td>LSU</td>\n",
       "      <td>NaN</td>\n",
       "      <td>0</td>\n",
       "      <td>0</td>\n",
       "      <td>0</td>\n",
       "      <td>5.4</td>\n",
       "    </tr>\n",
       "    <tr>\n",
       "      <th>4</th>\n",
       "      <td>2015</td>\n",
       "      <td>Mario Alford</td>\n",
       "      <td>Mario</td>\n",
       "      <td>Alford</td>\n",
       "      <td>WR</td>\n",
       "      <td>5</td>\n",
       "      <td>8.0</td>\n",
       "      <td>68.0</td>\n",
       "      <td>180</td>\n",
       "      <td>0.0</td>\n",
       "      <td>...</td>\n",
       "      <td>34.0</td>\n",
       "      <td>121</td>\n",
       "      <td>13</td>\n",
       "      <td>0</td>\n",
       "      <td>West Virginia</td>\n",
       "      <td>NaN</td>\n",
       "      <td>0</td>\n",
       "      <td>0</td>\n",
       "      <td>0</td>\n",
       "      <td>5.3</td>\n",
       "    </tr>\n",
       "  </tbody>\n",
       "</table>\n",
       "<p>5 rows × 26 columns</p>\n",
       "</div>"
      ],
      "text/plain": [
       "   year            name firstname   lastname position  heightfeet  \\\n",
       "0  2015  Ameer Abdullah     Ameer   Abdullah       RB           5   \n",
       "1  2015  Nelson Agholor    Nelson    Agholor       WR           6   \n",
       "2  2015       Jay Ajayi       Jay      Ajayi       RB           6   \n",
       "3  2015  Kwon Alexander      Kwon  Alexander      OLB           6   \n",
       "4  2015    Mario Alford     Mario     Alford       WR           5   \n",
       "\n",
       "   heightinches  heightinchestotal  weight  arms    ...     vertical  broad  \\\n",
       "0           9.0               69.0     205   0.0    ...         42.5    130   \n",
       "1           0.0               72.0     198   0.0    ...          0.0      0   \n",
       "2           0.0               72.0     221   0.0    ...         39.0    121   \n",
       "3           1.0               73.0     227   0.0    ...         36.0    121   \n",
       "4           8.0               68.0     180   0.0    ...         34.0    121   \n",
       "\n",
       "   bench  round        college  pick  pickround  picktotal  wonderlic  \\\n",
       "0     24      0       Nebraska   NaN          0          0          0   \n",
       "1     12      0            USC   NaN          0          0          0   \n",
       "2     19      0      Boise St.   NaN          0          0          0   \n",
       "3     24      0            LSU   NaN          0          0          0   \n",
       "4     13      0  West Virginia   NaN          0          0          0   \n",
       "\n",
       "   nflgrade  \n",
       "0       5.9  \n",
       "1       5.6  \n",
       "2       6.0  \n",
       "3       5.4  \n",
       "4       5.3  \n",
       "\n",
       "[5 rows x 26 columns]"
      ]
     },
     "execution_count": 4,
     "metadata": {},
     "output_type": "execute_result"
    }
   ],
   "source": [
    "# Import and preview the raw combine data\n",
    "combine = pd.read_csv(\"combine.csv\")\n",
    "combine.head()"
   ]
  },
  {
   "cell_type": "markdown",
   "metadata": {},
   "source": [
    "# Data Wrangling\n",
    "\n",
    "We have 4947 players with 26 attributes"
   ]
  },
  {
   "cell_type": "code",
   "execution_count": 5,
   "metadata": {},
   "outputs": [
    {
     "data": {
      "text/plain": [
       "(4947, 26)"
      ]
     },
     "execution_count": 5,
     "metadata": {},
     "output_type": "execute_result"
    }
   ],
   "source": [
    "# Shape\n",
    "combine.shape"
   ]
  },
  {
   "cell_type": "markdown",
   "metadata": {},
   "source": [
    "Drop insignificant and redundant columns"
   ]
  },
  {
   "cell_type": "code",
   "execution_count": 6,
   "metadata": {},
   "outputs": [
    {
     "data": {
      "text/plain": [
       "(4947, 20)"
      ]
     },
     "execution_count": 6,
     "metadata": {},
     "output_type": "execute_result"
    }
   ],
   "source": [
    "nfl = (combine.drop(['firstname','lastname','heightfeet','heightinches','pick','pickround'],axis=1))\n",
    "nfl.shape"
   ]
  },
  {
   "cell_type": "markdown",
   "metadata": {},
   "source": [
    "Check data type"
   ]
  },
  {
   "cell_type": "code",
   "execution_count": 7,
   "metadata": {},
   "outputs": [
    {
     "name": "stdout",
     "output_type": "stream",
     "text": [
      "<class 'pandas.core.frame.DataFrame'>\n",
      "RangeIndex: 4947 entries, 0 to 4946\n",
      "Data columns (total 20 columns):\n",
      "year                 4947 non-null int64\n",
      "name                 4947 non-null object\n",
      "position             4947 non-null object\n",
      "heightinchestotal    4947 non-null float64\n",
      "weight               4947 non-null int64\n",
      "arms                 4947 non-null float64\n",
      "hands                4947 non-null float64\n",
      "fortyyd              4947 non-null float64\n",
      "twentyyd             4946 non-null float64\n",
      "tenyd                4945 non-null float64\n",
      "twentyss             4947 non-null float64\n",
      "threecone            4947 non-null float64\n",
      "vertical             4947 non-null float64\n",
      "broad                4947 non-null int64\n",
      "bench                4947 non-null int64\n",
      "round                4947 non-null int64\n",
      "college              3477 non-null object\n",
      "picktotal            4947 non-null int64\n",
      "wonderlic            4947 non-null int64\n",
      "nflgrade             4947 non-null float64\n",
      "dtypes: float64(10), int64(7), object(3)\n",
      "memory usage: 773.0+ KB\n"
     ]
    }
   ],
   "source": [
    "# checking column data types and 0 values are considered non-null which needs to be changed\n",
    "nfl.info()"
   ]
  },
  {
   "cell_type": "markdown",
   "metadata": {},
   "source": [
    "Find the percentage of missing values in certain columns"
   ]
  },
  {
   "cell_type": "code",
   "execution_count": 8,
   "metadata": {},
   "outputs": [
    {
     "name": "stdout",
     "output_type": "stream",
     "text": [
      "Percentage of column arms with missing values:  76.49 %\n",
      "Percentage of column hands with missing values:  76.47 %\n",
      "Percentage of column twentyyd with missing values:  97.15 %\n",
      "Percentage of column tenyd with missing values:  91.89 %\n",
      "Percentage of column wonderlic with missing values:  95.51 %\n"
     ]
    }
   ],
   "source": [
    "# Percentage of amount of rows are 0.0 in arms column\n",
    "arm = nfl[\"arms\"].value_counts().nlargest()\n",
    "arm_0 = arm.iloc[0]\n",
    "arm_perc= round(arm_0 / float(len(nfl))*100,2)\n",
    "\n",
    "# Percentage of rows that are 0.0 in hands column\n",
    "hand = nfl[\"hands\"].value_counts().nlargest()\n",
    "hand_0 = hand.iloc[0]\n",
    "hand_perc= round(hand_0 / float(len(nfl))*100,2)\n",
    "\n",
    "# Percentage of rows that are 0.0 in the twentyyd column\n",
    "twenty = nfl[\"twentyyd\"].value_counts().nlargest()\n",
    "twenty_0 = twenty.iloc[0]\n",
    "twenty_perc= round(twenty_0 / float(len(nfl))*100,2)\n",
    "\n",
    "# Percentage of missing data that is 0.0 in the tenyd column\n",
    "ten = nfl[\"tenyd\"].value_counts().nlargest()\n",
    "ten_0 = ten.iloc[0]\n",
    "ten_perc= round(ten_0 / float(len(nfl))*100,2)\n",
    "\n",
    "# Percentage of missing data that is 0.0 in the wonderlic column\n",
    "wonderlic = nfl[\"wonderlic\"].value_counts().nlargest()\n",
    "wonderlic_0 = wonderlic.iloc[0]\n",
    "wonderlic_perc= round(wonderlic_0 / float(len(nfl))*100,2)\n",
    "\n",
    "print \"Percentage of column arms with missing values: \",arm_perc,'%'\n",
    "print \"Percentage of column hands with missing values: \",hand_perc,'%'\n",
    "print \"Percentage of column twentyyd with missing values: \",twenty_perc,'%'\n",
    "print \"Percentage of column tenyd with missing values: \",ten_perc,'%'\n",
    "print \"Percentage of column wonderlic with missing values: \",wonderlic_perc,'%'"
   ]
  },
  {
   "cell_type": "markdown",
   "metadata": {},
   "source": [
    "Drop more columns that contain a lot of missing values"
   ]
  },
  {
   "cell_type": "code",
   "execution_count": 9,
   "metadata": {},
   "outputs": [
    {
     "data": {
      "text/plain": [
       "(4947, 15)"
      ]
     },
     "execution_count": 9,
     "metadata": {},
     "output_type": "execute_result"
    }
   ],
   "source": [
    "# Drop columns with a high percentage of missing values\n",
    "nfl = (nfl.drop(['arms','hands','twentyyd','tenyd','wonderlic'],axis=1))\n",
    "nfl.shape"
   ]
  },
  {
   "cell_type": "markdown",
   "metadata": {},
   "source": [
    "Find the amount of missing values for attributes that are more common and found to be more important for coaches. Threecone has a lot of missing values, but will keep it for now..."
   ]
  },
  {
   "cell_type": "code",
   "execution_count": 10,
   "metadata": {},
   "outputs": [
    {
     "name": "stdout",
     "output_type": "stream",
     "text": [
      "Percentage of column fortyyd with missing values:  3.86 %\n",
      "Percentage of column twentyss with missing values:  24.78 %\n",
      "Percentage of column threecone with missing values:  79.1 %\n",
      "Percentage of column vertical with missing values:  12.57 %\n",
      "Percentage of column broad with missing values:  15.4 %\n",
      "Percentage of column bench with missing values:  26.18 %\n"
     ]
    }
   ],
   "source": [
    "# Percentage of rows that are 0.0 in the fortyyd column\n",
    "forty = nfl[\"fortyyd\"].value_counts().nlargest()\n",
    "forty_0 = forty.iloc[0]\n",
    "forty_perc= round(forty_0 / float(len(nfl))*100,2)\n",
    "\n",
    "# Percentage of rows that are 0.0 in the twentyss column\n",
    "twentyss = nfl[\"twentyss\"].value_counts().nlargest()\n",
    "twentyss_0 = twentyss.iloc[0]\n",
    "twenty_perc= round(twentyss_0 / float(len(nfl))*100,2)\n",
    "\n",
    "# Percentage of rows that are 0.0 in the threecone column\n",
    "three = nfl[\"threecone\"].value_counts().nlargest()\n",
    "three_0 = three.iloc[0]\n",
    "three_perc= round(three_0 / float(len(nfl))*100,2)\n",
    "\n",
    "# Percentage of rows that are 0.0 in the vertical column\n",
    "vert = nfl[\"vertical\"].value_counts().nlargest()\n",
    "vert_0 = vert.iloc[0]\n",
    "vert_perc= round(vert_0 / float(len(nfl))*100,2)\n",
    "\n",
    "# Percentage of rows that are 0.0 in the broad column\n",
    "broad = nfl[\"broad\"].value_counts().nlargest()\n",
    "broad_0 = broad.iloc[0]\n",
    "broad_perc= round(broad_0 / float(len(nfl))*100,2)\n",
    "\n",
    "# Percentage of rows that are 0.0 in the bench column\n",
    "bench = nfl[\"bench\"].value_counts().nlargest()\n",
    "bench_0 = bench.iloc[0]\n",
    "bench_perc= round(bench_0 / float(len(nfl))*100,2)\n",
    "\n",
    "print \"Percentage of column fortyyd with missing values: \",forty_perc,'%'\n",
    "print \"Percentage of column twentyss with missing values: \",twenty_perc,'%'\n",
    "print \"Percentage of column threecone with missing values: \",three_perc,'%'\n",
    "print \"Percentage of column vertical with missing values: \",vert_perc,'%'\n",
    "print \"Percentage of column broad with missing values: \",broad_perc,'%'\n",
    "print \"Percentage of column bench with missing values: \",bench_perc,'%'"
   ]
  },
  {
   "cell_type": "markdown",
   "metadata": {},
   "source": [
    "Taking a peak at the amount of players at each position, with wide receiver (WR) being the most common position"
   ]
  },
  {
   "cell_type": "code",
   "execution_count": 11,
   "metadata": {},
   "outputs": [
    {
     "data": {
      "text/plain": [
       "WR     631\n",
       "CB     490\n",
       "RB     455\n",
       "DE     415\n",
       "OT     390\n",
       "DT     370\n",
       "OLB    364\n",
       "OG     330\n",
       "QB     304\n",
       "TE     291\n",
       "ILB    225\n",
       "FS     211\n",
       "SS     184\n",
       "OC     132\n",
       "FB     102\n",
       "C       21\n",
       "P       12\n",
       "K        9\n",
       "NT       9\n",
       "LS       2\n",
       "Name: position, dtype: int64"
      ]
     },
     "execution_count": 11,
     "metadata": {},
     "output_type": "execute_result"
    }
   ],
   "source": [
    "# Count the number of players in each position\n",
    "nfl[\"position\"].value_counts()"
   ]
  },
  {
   "cell_type": "markdown",
   "metadata": {},
   "source": [
    "Some positions were classified at more than 1 value, so would change it to be only one class per position. Eliminated players at certain positions that were either not common or not very interesting"
   ]
  },
  {
   "cell_type": "code",
   "execution_count": 12,
   "metadata": {},
   "outputs": [
    {
     "data": {
      "text/plain": [
       "WR     631\n",
       "CB     490\n",
       "RB     455\n",
       "DE     415\n",
       "S      395\n",
       "OT     390\n",
       "DT     379\n",
       "OLB    364\n",
       "OG     330\n",
       "QB     304\n",
       "TE     291\n",
       "ILB    225\n",
       "C      153\n",
       "Name: position, dtype: int64"
      ]
     },
     "execution_count": 12,
     "metadata": {},
     "output_type": "execute_result"
    }
   ],
   "source": [
    "# OC and C BOTH represent the center position. \n",
    "# Instead of having 2 different values for the same position, now their is one by replacing OC with C\n",
    "nfl.replace(['OC'], ['C'], inplace=True)\n",
    "\n",
    "# No interest in analyzing long snappers\n",
    "nfl = nfl[nfl.position != 'LS']\n",
    "\n",
    "# No interest in analyzing kickers\n",
    "nfl = nfl[nfl.position != 'K']\n",
    "\n",
    "# No interest in analyzing punters\n",
    "nfl = nfl[nfl.position != 'P']\n",
    "\n",
    "# No interest in analyzing fullbacks\n",
    "nfl = nfl[nfl.position != 'FB']\n",
    "\n",
    "# NT and DT are pretty much the same thing so will replace the NT value to DT\n",
    "# FS and SS are pretty much the same thing so will rename both to S\n",
    "nfl.replace(['NT', 'FS', 'SS'], ['DT', 'S', 'S'], inplace=True)\n",
    "\n",
    "nfl[\"position\"].value_counts()"
   ]
  },
  {
   "cell_type": "markdown",
   "metadata": {},
   "source": [
    "Replace 0 values with NaN, so zeros won't be included in calculations"
   ]
  },
  {
   "cell_type": "code",
   "execution_count": 13,
   "metadata": {},
   "outputs": [
    {
     "data": {
      "text/html": [
       "<div>\n",
       "<style>\n",
       "    .dataframe thead tr:only-child th {\n",
       "        text-align: right;\n",
       "    }\n",
       "\n",
       "    .dataframe thead th {\n",
       "        text-align: left;\n",
       "    }\n",
       "\n",
       "    .dataframe tbody tr th {\n",
       "        vertical-align: top;\n",
       "    }\n",
       "</style>\n",
       "<table border=\"1\" class=\"dataframe\">\n",
       "  <thead>\n",
       "    <tr style=\"text-align: right;\">\n",
       "      <th></th>\n",
       "      <th>year</th>\n",
       "      <th>name</th>\n",
       "      <th>position</th>\n",
       "      <th>heightinchestotal</th>\n",
       "      <th>weight</th>\n",
       "      <th>fortyyd</th>\n",
       "      <th>twentyss</th>\n",
       "      <th>threecone</th>\n",
       "      <th>vertical</th>\n",
       "      <th>broad</th>\n",
       "      <th>bench</th>\n",
       "      <th>round</th>\n",
       "      <th>college</th>\n",
       "      <th>picktotal</th>\n",
       "      <th>nflgrade</th>\n",
       "    </tr>\n",
       "  </thead>\n",
       "  <tbody>\n",
       "    <tr>\n",
       "      <th>0</th>\n",
       "      <td>2015</td>\n",
       "      <td>Ameer Abdullah</td>\n",
       "      <td>RB</td>\n",
       "      <td>69.0</td>\n",
       "      <td>205</td>\n",
       "      <td>4.6</td>\n",
       "      <td>3.95</td>\n",
       "      <td>6.79</td>\n",
       "      <td>42.5</td>\n",
       "      <td>130.0</td>\n",
       "      <td>24.0</td>\n",
       "      <td>NaN</td>\n",
       "      <td>Nebraska</td>\n",
       "      <td>NaN</td>\n",
       "      <td>5.9</td>\n",
       "    </tr>\n",
       "  </tbody>\n",
       "</table>\n",
       "</div>"
      ],
      "text/plain": [
       "   year            name position  heightinchestotal  weight  fortyyd  \\\n",
       "0  2015  Ameer Abdullah       RB               69.0     205      4.6   \n",
       "\n",
       "   twentyss  threecone  vertical  broad  bench  round   college  picktotal  \\\n",
       "0      3.95       6.79      42.5  130.0   24.0    NaN  Nebraska        NaN   \n",
       "\n",
       "   nflgrade  \n",
       "0       5.9  "
      ]
     },
     "execution_count": 13,
     "metadata": {},
     "output_type": "execute_result"
    }
   ],
   "source": [
    "# Replace all 0 values with NaN, so calculations will exclude NaN values.\n",
    "nflnan = nfl.replace(0.00, np.NaN)\n",
    "nflnan.head(1)"
   ]
  },
  {
   "cell_type": "markdown",
   "metadata": {},
   "source": [
    "Check to make sure some players don't have the same name and if so, will change so elimate duplicate names. As you can see, there are duplicate names"
   ]
  },
  {
   "cell_type": "code",
   "execution_count": 14,
   "metadata": {},
   "outputs": [
    {
     "data": {
      "text/plain": [
       "name             year\n",
       "Derrick Johnson  2005    2\n",
       "Brandon Moore    2002    2\n",
       "Kevin White      2015    2\n",
       "Alex Smith       2005    2\n",
       "Ben Obomanu      2006    2\n",
       "Ziggy Ansah      2013    1\n",
       "dtype: int64"
      ]
     },
     "execution_count": 14,
     "metadata": {},
     "output_type": "execute_result"
    }
   ],
   "source": [
    "# check to see if any players have the same name\n",
    "dp = nflnan.groupby([\"name\",\"year\"]).size().sort_values(ascending=False)\n",
    "dp.head(6)\n",
    "# Appears some do have the same name"
   ]
  },
  {
   "cell_type": "code",
   "execution_count": 15,
   "metadata": {
    "collapsed": true
   },
   "outputs": [],
   "source": [
    "# players with duplicate names, one will have _dp at the end of their name in order to avoid duplication\n",
    "nflnan.name = nflnan.name.where(~nflnan.name.duplicated(), nflnan.name + '_dp')"
   ]
  },
  {
   "cell_type": "code",
   "execution_count": 16,
   "metadata": {},
   "outputs": [
    {
     "data": {
      "text/plain": [
       "name             year\n",
       "Ziggy Ansah      2013    1\n",
       "Duke Ihenacho    2012    1\n",
       "Duke Preston     2005    1\n",
       "Duke Robinson    2009    1\n",
       "Dunta Robinson   2004    1\n",
       "Durell Eskridge  2015    1\n",
       "dtype: int64"
      ]
     },
     "execution_count": 16,
     "metadata": {},
     "output_type": "execute_result"
    }
   ],
   "source": [
    "# check to make sure no more duplicate players\n",
    "no_dup = nflnan.groupby([\"name\",\"year\"]).size().sort_values(ascending=False)\n",
    "no_dup.head(6)"
   ]
  },
  {
   "cell_type": "code",
   "execution_count": 17,
   "metadata": {},
   "outputs": [
    {
     "data": {
      "text/html": [
       "<div>\n",
       "<style>\n",
       "    .dataframe thead tr:only-child th {\n",
       "        text-align: right;\n",
       "    }\n",
       "\n",
       "    .dataframe thead th {\n",
       "        text-align: left;\n",
       "    }\n",
       "\n",
       "    .dataframe tbody tr th {\n",
       "        vertical-align: top;\n",
       "    }\n",
       "</style>\n",
       "<table border=\"1\" class=\"dataframe\">\n",
       "  <thead>\n",
       "    <tr style=\"text-align: right;\">\n",
       "      <th></th>\n",
       "      <th>year</th>\n",
       "      <th>name</th>\n",
       "      <th>position</th>\n",
       "      <th>heightinchestotal</th>\n",
       "      <th>weight</th>\n",
       "      <th>fortyyd</th>\n",
       "      <th>twentyss</th>\n",
       "      <th>threecone</th>\n",
       "      <th>vertical</th>\n",
       "      <th>broad</th>\n",
       "      <th>bench</th>\n",
       "      <th>round</th>\n",
       "      <th>college</th>\n",
       "      <th>picktotal</th>\n",
       "      <th>nflgrade</th>\n",
       "    </tr>\n",
       "  </thead>\n",
       "  <tbody>\n",
       "    <tr>\n",
       "      <th>3957</th>\n",
       "      <td>2002</td>\n",
       "      <td>Brandon Moore</td>\n",
       "      <td>DT</td>\n",
       "      <td>75.0</td>\n",
       "      <td>293</td>\n",
       "      <td>5.26</td>\n",
       "      <td>4.64</td>\n",
       "      <td>NaN</td>\n",
       "      <td>25.5</td>\n",
       "      <td>96.0</td>\n",
       "      <td>32.0</td>\n",
       "      <td>NaN</td>\n",
       "      <td>NaN</td>\n",
       "      <td>NaN</td>\n",
       "      <td>NaN</td>\n",
       "    </tr>\n",
       "  </tbody>\n",
       "</table>\n",
       "</div>"
      ],
      "text/plain": [
       "      year           name position  heightinchestotal  weight  fortyyd  \\\n",
       "3957  2002  Brandon Moore       DT               75.0     293     5.26   \n",
       "\n",
       "      twentyss  threecone  vertical  broad  bench  round college  picktotal  \\\n",
       "3957      4.64        NaN      25.5   96.0   32.0    NaN     NaN        NaN   \n",
       "\n",
       "      nflgrade  \n",
       "3957       NaN  "
      ]
     },
     "execution_count": 17,
     "metadata": {},
     "output_type": "execute_result"
    }
   ],
   "source": [
    "# there were originally 2 Brandon Moore's in the name column. Check to make sure there is only one\n",
    "nflnan.loc[nflnan['name'] == 'Brandon Moore']"
   ]
  },
  {
   "cell_type": "code",
   "execution_count": 18,
   "metadata": {},
   "outputs": [
    {
     "data": {
      "text/html": [
       "<div>\n",
       "<style>\n",
       "    .dataframe thead tr:only-child th {\n",
       "        text-align: right;\n",
       "    }\n",
       "\n",
       "    .dataframe thead th {\n",
       "        text-align: left;\n",
       "    }\n",
       "\n",
       "    .dataframe tbody tr th {\n",
       "        vertical-align: top;\n",
       "    }\n",
       "</style>\n",
       "<table border=\"1\" class=\"dataframe\">\n",
       "  <thead>\n",
       "    <tr style=\"text-align: right;\">\n",
       "      <th></th>\n",
       "      <th>year</th>\n",
       "      <th>name</th>\n",
       "      <th>position</th>\n",
       "      <th>heightinchestotal</th>\n",
       "      <th>weight</th>\n",
       "      <th>fortyyd</th>\n",
       "      <th>twentyss</th>\n",
       "      <th>threecone</th>\n",
       "      <th>vertical</th>\n",
       "      <th>broad</th>\n",
       "      <th>bench</th>\n",
       "      <th>round</th>\n",
       "      <th>college</th>\n",
       "      <th>picktotal</th>\n",
       "      <th>nflgrade</th>\n",
       "    </tr>\n",
       "  </thead>\n",
       "  <tbody>\n",
       "    <tr>\n",
       "      <th>3958</th>\n",
       "      <td>2002</td>\n",
       "      <td>Brandon Moore_dp</td>\n",
       "      <td>OLB</td>\n",
       "      <td>73.0</td>\n",
       "      <td>239</td>\n",
       "      <td>4.61</td>\n",
       "      <td>NaN</td>\n",
       "      <td>NaN</td>\n",
       "      <td>36.5</td>\n",
       "      <td>113.0</td>\n",
       "      <td>23.0</td>\n",
       "      <td>NaN</td>\n",
       "      <td>NaN</td>\n",
       "      <td>NaN</td>\n",
       "      <td>NaN</td>\n",
       "    </tr>\n",
       "  </tbody>\n",
       "</table>\n",
       "</div>"
      ],
      "text/plain": [
       "      year              name position  heightinchestotal  weight  fortyyd  \\\n",
       "3958  2002  Brandon Moore_dp      OLB               73.0     239     4.61   \n",
       "\n",
       "      twentyss  threecone  vertical  broad  bench  round college  picktotal  \\\n",
       "3958       NaN        NaN      36.5  113.0   23.0    NaN     NaN        NaN   \n",
       "\n",
       "      nflgrade  \n",
       "3958       NaN  "
      ]
     },
     "execution_count": 18,
     "metadata": {},
     "output_type": "execute_result"
    }
   ],
   "source": [
    "# checking to make sure the other Brandon Moore was assigned _dp, to make him unique from the one in the cell above\n",
    "nflnan.loc[nflnan['name'] == 'Brandon Moore_dp']"
   ]
  },
  {
   "cell_type": "markdown",
   "metadata": {},
   "source": [
    "One issue with this data set is that it did not have any information of when the players were drafted in 2015. Found another dataset from https://www.kaggle.com/rwexler/eda-for-nfl-draft-outcomes-data/data which provided this information.\n",
    "\n",
    "Load second data set"
   ]
  },
  {
   "cell_type": "code",
   "execution_count": 19,
   "metadata": {},
   "outputs": [
    {
     "data": {
      "text/html": [
       "<div>\n",
       "<style>\n",
       "    .dataframe thead tr:only-child th {\n",
       "        text-align: right;\n",
       "    }\n",
       "\n",
       "    .dataframe thead th {\n",
       "        text-align: left;\n",
       "    }\n",
       "\n",
       "    .dataframe tbody tr th {\n",
       "        vertical-align: top;\n",
       "    }\n",
       "</style>\n",
       "<table border=\"1\" class=\"dataframe\">\n",
       "  <thead>\n",
       "    <tr style=\"text-align: right;\">\n",
       "      <th></th>\n",
       "      <th>Player_Id</th>\n",
       "      <th>Year</th>\n",
       "      <th>Rnd</th>\n",
       "      <th>Pick</th>\n",
       "      <th>Tm</th>\n",
       "      <th>Player</th>\n",
       "      <th>Pos</th>\n",
       "      <th>Position Standard</th>\n",
       "      <th>First4AV</th>\n",
       "      <th>Age</th>\n",
       "      <th>...</th>\n",
       "      <th>Rush_Yds</th>\n",
       "      <th>Rush_TDs</th>\n",
       "      <th>Rec</th>\n",
       "      <th>Rec_Yds</th>\n",
       "      <th>Rec_Tds</th>\n",
       "      <th>Tkl</th>\n",
       "      <th>Def_Int</th>\n",
       "      <th>Sk</th>\n",
       "      <th>College/Univ</th>\n",
       "      <th>Unnamed: 32</th>\n",
       "    </tr>\n",
       "  </thead>\n",
       "  <tbody>\n",
       "    <tr>\n",
       "      <th>0</th>\n",
       "      <td>WinsJa00</td>\n",
       "      <td>2015</td>\n",
       "      <td>1.0</td>\n",
       "      <td>1</td>\n",
       "      <td>TAM</td>\n",
       "      <td>Jameis Winston</td>\n",
       "      <td>QB</td>\n",
       "      <td>QB</td>\n",
       "      <td>13</td>\n",
       "      <td>21.0</td>\n",
       "      <td>...</td>\n",
       "      <td>311.0</td>\n",
       "      <td>7.0</td>\n",
       "      <td>NaN</td>\n",
       "      <td>NaN</td>\n",
       "      <td>NaN</td>\n",
       "      <td>NaN</td>\n",
       "      <td>NaN</td>\n",
       "      <td>NaN</td>\n",
       "      <td>Florida St.</td>\n",
       "      <td>NaN</td>\n",
       "    </tr>\n",
       "    <tr>\n",
       "      <th>1</th>\n",
       "      <td>MariMa01</td>\n",
       "      <td>2015</td>\n",
       "      <td>1.0</td>\n",
       "      <td>2</td>\n",
       "      <td>TEN</td>\n",
       "      <td>Marcus Mariota</td>\n",
       "      <td>QB</td>\n",
       "      <td>QB</td>\n",
       "      <td>9</td>\n",
       "      <td>21.0</td>\n",
       "      <td>...</td>\n",
       "      <td>516.0</td>\n",
       "      <td>4.0</td>\n",
       "      <td>1.0</td>\n",
       "      <td>41.0</td>\n",
       "      <td>1.0</td>\n",
       "      <td>NaN</td>\n",
       "      <td>NaN</td>\n",
       "      <td>NaN</td>\n",
       "      <td>Oregon</td>\n",
       "      <td>NaN</td>\n",
       "    </tr>\n",
       "    <tr>\n",
       "      <th>2</th>\n",
       "      <td>FowlDa00</td>\n",
       "      <td>2015</td>\n",
       "      <td>1.0</td>\n",
       "      <td>3</td>\n",
       "      <td>JAX</td>\n",
       "      <td>Dante Fowler</td>\n",
       "      <td>OLB</td>\n",
       "      <td>LB</td>\n",
       "      <td>0</td>\n",
       "      <td>21.0</td>\n",
       "      <td>...</td>\n",
       "      <td>NaN</td>\n",
       "      <td>NaN</td>\n",
       "      <td>NaN</td>\n",
       "      <td>NaN</td>\n",
       "      <td>NaN</td>\n",
       "      <td>16.0</td>\n",
       "      <td>NaN</td>\n",
       "      <td>2.5</td>\n",
       "      <td>Florida</td>\n",
       "      <td>NaN</td>\n",
       "    </tr>\n",
       "    <tr>\n",
       "      <th>3</th>\n",
       "      <td>CoopAm00</td>\n",
       "      <td>2015</td>\n",
       "      <td>1.0</td>\n",
       "      <td>4</td>\n",
       "      <td>OAK</td>\n",
       "      <td>Amari Cooper</td>\n",
       "      <td>WR</td>\n",
       "      <td>WR</td>\n",
       "      <td>9</td>\n",
       "      <td>21.0</td>\n",
       "      <td>...</td>\n",
       "      <td>-3.0</td>\n",
       "      <td>0.0</td>\n",
       "      <td>134.0</td>\n",
       "      <td>1970.0</td>\n",
       "      <td>9.0</td>\n",
       "      <td>NaN</td>\n",
       "      <td>NaN</td>\n",
       "      <td>NaN</td>\n",
       "      <td>Alabama</td>\n",
       "      <td>NaN</td>\n",
       "    </tr>\n",
       "    <tr>\n",
       "      <th>4</th>\n",
       "      <td>ScheBr00</td>\n",
       "      <td>2015</td>\n",
       "      <td>1.0</td>\n",
       "      <td>5</td>\n",
       "      <td>WAS</td>\n",
       "      <td>Brandon Scherff</td>\n",
       "      <td>T</td>\n",
       "      <td>T</td>\n",
       "      <td>7</td>\n",
       "      <td>23.0</td>\n",
       "      <td>...</td>\n",
       "      <td>NaN</td>\n",
       "      <td>NaN</td>\n",
       "      <td>NaN</td>\n",
       "      <td>NaN</td>\n",
       "      <td>NaN</td>\n",
       "      <td>NaN</td>\n",
       "      <td>NaN</td>\n",
       "      <td>NaN</td>\n",
       "      <td>Iowa</td>\n",
       "      <td>NaN</td>\n",
       "    </tr>\n",
       "  </tbody>\n",
       "</table>\n",
       "<p>5 rows × 33 columns</p>\n",
       "</div>"
      ],
      "text/plain": [
       "  Player_Id  Year  Rnd  Pick   Tm           Player  Pos Position Standard  \\\n",
       "0  WinsJa00  2015  1.0     1  TAM   Jameis Winston   QB                QB   \n",
       "1  MariMa01  2015  1.0     2  TEN   Marcus Mariota   QB                QB   \n",
       "2  FowlDa00  2015  1.0     3  JAX     Dante Fowler  OLB                LB   \n",
       "3  CoopAm00  2015  1.0     4  OAK     Amari Cooper   WR                WR   \n",
       "4  ScheBr00  2015  1.0     5  WAS  Brandon Scherff    T                 T   \n",
       "\n",
       "   First4AV   Age     ...       Rush_Yds  Rush_TDs    Rec  Rec_Yds  Rec_Tds  \\\n",
       "0        13  21.0     ...          311.0       7.0    NaN      NaN      NaN   \n",
       "1         9  21.0     ...          516.0       4.0    1.0     41.0      1.0   \n",
       "2         0  21.0     ...            NaN       NaN    NaN      NaN      NaN   \n",
       "3         9  21.0     ...           -3.0       0.0  134.0   1970.0      9.0   \n",
       "4         7  23.0     ...            NaN       NaN    NaN      NaN      NaN   \n",
       "\n",
       "    Tkl  Def_Int   Sk  College/Univ  Unnamed: 32  \n",
       "0   NaN      NaN  NaN   Florida St.          NaN  \n",
       "1   NaN      NaN  NaN        Oregon          NaN  \n",
       "2  16.0      NaN  2.5       Florida          NaN  \n",
       "3   NaN      NaN  NaN       Alabama          NaN  \n",
       "4   NaN      NaN  NaN          Iowa          NaN  \n",
       "\n",
       "[5 rows x 33 columns]"
      ]
     },
     "execution_count": 19,
     "metadata": {},
     "output_type": "execute_result"
    }
   ],
   "source": [
    "# nflnan dataframe has nan values for columns round and picktotal in year 2015\n",
    "# draft dataframe has round and picktotal information for year 2015 \n",
    "# Import and preview the raw nfl_draft data\n",
    "draft = pd.read_csv(\"nfl_draft.csv\")\n",
    "draft.head()"
   ]
  },
  {
   "cell_type": "code",
   "execution_count": 20,
   "metadata": {},
   "outputs": [
    {
     "data": {
      "text/plain": [
       "['Player_Id',\n",
       " 'Year',\n",
       " 'Rnd',\n",
       " 'Pick',\n",
       " 'Tm',\n",
       " 'Player',\n",
       " 'Pos',\n",
       " 'Position Standard',\n",
       " 'First4AV',\n",
       " 'Age',\n",
       " 'To',\n",
       " 'AP1',\n",
       " 'PB',\n",
       " 'St',\n",
       " 'CarAV',\n",
       " 'DrAV',\n",
       " 'G',\n",
       " 'Cmp',\n",
       " 'Pass_Att',\n",
       " 'Pass_Yds',\n",
       " 'Pass_TD',\n",
       " 'Pass_Int',\n",
       " 'Rush_Att',\n",
       " 'Rush_Yds',\n",
       " 'Rush_TDs',\n",
       " 'Rec',\n",
       " 'Rec_Yds',\n",
       " 'Rec_Tds',\n",
       " 'Tkl',\n",
       " 'Def_Int',\n",
       " 'Sk',\n",
       " 'College/Univ',\n",
       " 'Unnamed: 32']"
      ]
     },
     "execution_count": 20,
     "metadata": {},
     "output_type": "execute_result"
    }
   ],
   "source": [
    "list(draft.columns.values)"
   ]
  },
  {
   "cell_type": "markdown",
   "metadata": {},
   "source": [
    "Renamed some columns to be the same names as our first data set. Dropped unimportant and redundant columns. Dropped players that were not in the years 1999-2015, since our first data set only has data on players during that timeframe."
   ]
  },
  {
   "cell_type": "code",
   "execution_count": 21,
   "metadata": {},
   "outputs": [
    {
     "data": {
      "text/plain": [
       "2003    262\n",
       "2002    261\n",
       "2014    256\n",
       "2009    256\n",
       "2015    256\n",
       "2010    255\n",
       "2006    255\n",
       "2007    255\n",
       "2005    255\n",
       "2004    255\n",
       "2011    254\n",
       "2013    254\n",
       "2000    254\n",
       "1999    253\n",
       "2012    253\n",
       "2008    252\n",
       "2001    246\n",
       "Name: year, dtype: int64"
      ]
     },
     "execution_count": 21,
     "metadata": {},
     "output_type": "execute_result"
    }
   ],
   "source": [
    "# Rename some column headers to match column headers of combine dataframe\n",
    "draft = draft.rename(columns={'Player': 'name','Year': 'year','Rnd': 'round','Pick': 'picktotal'})\n",
    "\n",
    "# Drop insignificant or redundant columns\n",
    "draft1 = (draft.drop(['Player_Id','Tm','Pos','Position Standard','First4AV','To','AP1','PB','St',\n",
    "                     'CarAV','DrAV','G','Unnamed: 32'],axis=1))\n",
    "\n",
    "# Only include years 1999-2015 in draft2 dataframe, since these are the only years in nflnan dataframe\n",
    "draft2 = (draft1[draft[\"year\"] >= 1999])\n",
    "\n",
    "draft2.year.value_counts()"
   ]
  },
  {
   "cell_type": "markdown",
   "metadata": {},
   "source": [
    "Looking for duplicate players in the second data set"
   ]
  },
  {
   "cell_type": "code",
   "execution_count": 22,
   "metadata": {},
   "outputs": [
    {
     "data": {
      "text/plain": [
       "name             year\n",
       "Alex Smith       2005    2\n",
       "Derrick Johnson  2005    2\n",
       "Robert Griffin   2012    2\n",
       "E.J. Whitley     2006    1\n",
       "Dwight Smith     2001    1\n",
       "dtype: int64"
      ]
     },
     "execution_count": 22,
     "metadata": {},
     "output_type": "execute_result"
    }
   ],
   "source": [
    "# checking to see if draft2 dataframe has players with the same name\n",
    "dup2 = draft2.groupby([\"name\",\"year\"]).size().sort_values(ascending=False)\n",
    "dup2.head()"
   ]
  },
  {
   "cell_type": "markdown",
   "metadata": {},
   "source": [
    "Duplicate names will be changed, so all players have a unique name. This is important so later when I merge both datasets, there are no issues"
   ]
  },
  {
   "cell_type": "code",
   "execution_count": 23,
   "metadata": {},
   "outputs": [
    {
     "name": "stderr",
     "output_type": "stream",
     "text": [
      "C:\\Users\\chads\\Anaconda2\\lib\\site-packages\\pandas\\core\\generic.py:3110: SettingWithCopyWarning: \n",
      "A value is trying to be set on a copy of a slice from a DataFrame.\n",
      "Try using .loc[row_indexer,col_indexer] = value instead\n",
      "\n",
      "See the caveats in the documentation: http://pandas.pydata.org/pandas-docs/stable/indexing.html#indexing-view-versus-copy\n",
      "  self[name] = value\n"
     ]
    },
    {
     "data": {
      "text/plain": [
       "name           year\n",
       "Zuriel Smith   2003    1\n",
       "Dwight Lowery  2008    1\n",
       "Earl Wolff     2013    1\n",
       "Earl Watford   2013    1\n",
       "Earl Thomas    2010    1\n",
       "dtype: int64"
      ]
     },
     "execution_count": 23,
     "metadata": {},
     "output_type": "execute_result"
    }
   ],
   "source": [
    "# players with same name in draft2 dataframe, one will have _dp at the end of their name to avoid duplication\n",
    "draft2.name = draft2.name.where(~draft2.name.duplicated(), draft2.name + '_dp')\n",
    "\n",
    "# No more duplicate names\n",
    "_=no_dup2 = draft2.groupby([\"name\",\"year\"]).size().sort_values(ascending=False)\n",
    "no_dup2.head()"
   ]
  },
  {
   "cell_type": "code",
   "execution_count": 24,
   "metadata": {},
   "outputs": [
    {
     "data": {
      "text/html": [
       "<div>\n",
       "<style>\n",
       "    .dataframe thead tr:only-child th {\n",
       "        text-align: right;\n",
       "    }\n",
       "\n",
       "    .dataframe thead th {\n",
       "        text-align: left;\n",
       "    }\n",
       "\n",
       "    .dataframe tbody tr th {\n",
       "        vertical-align: top;\n",
       "    }\n",
       "</style>\n",
       "<table border=\"1\" class=\"dataframe\">\n",
       "  <thead>\n",
       "    <tr style=\"text-align: right;\">\n",
       "      <th></th>\n",
       "      <th>year</th>\n",
       "      <th>round</th>\n",
       "      <th>picktotal</th>\n",
       "      <th>name</th>\n",
       "      <th>Age</th>\n",
       "      <th>Cmp</th>\n",
       "      <th>Pass_Att</th>\n",
       "      <th>Pass_Yds</th>\n",
       "      <th>Pass_TD</th>\n",
       "      <th>Pass_Int</th>\n",
       "      <th>Rush_Att</th>\n",
       "      <th>Rush_Yds</th>\n",
       "      <th>Rush_TDs</th>\n",
       "      <th>Rec</th>\n",
       "      <th>Rec_Yds</th>\n",
       "      <th>Rec_Tds</th>\n",
       "      <th>Tkl</th>\n",
       "      <th>Def_Int</th>\n",
       "      <th>Sk</th>\n",
       "      <th>College/Univ</th>\n",
       "    </tr>\n",
       "  </thead>\n",
       "  <tbody>\n",
       "    <tr>\n",
       "      <th>2546</th>\n",
       "      <td>2005</td>\n",
       "      <td>1.0</td>\n",
       "      <td>1</td>\n",
       "      <td>Alex Smith</td>\n",
       "      <td>21.0</td>\n",
       "      <td>2411.0</td>\n",
       "      <td>3921.0</td>\n",
       "      <td>26421.0</td>\n",
       "      <td>151.0</td>\n",
       "      <td>87.0</td>\n",
       "      <td>446.0</td>\n",
       "      <td>1998.0</td>\n",
       "      <td>10.0</td>\n",
       "      <td>2.0</td>\n",
       "      <td>-10.0</td>\n",
       "      <td>0.0</td>\n",
       "      <td>9.0</td>\n",
       "      <td>NaN</td>\n",
       "      <td>NaN</td>\n",
       "      <td>Utah</td>\n",
       "    </tr>\n",
       "  </tbody>\n",
       "</table>\n",
       "</div>"
      ],
      "text/plain": [
       "      year  round  picktotal        name   Age     Cmp  Pass_Att  Pass_Yds  \\\n",
       "2546  2005    1.0          1  Alex Smith  21.0  2411.0    3921.0   26421.0   \n",
       "\n",
       "      Pass_TD  Pass_Int  Rush_Att  Rush_Yds  Rush_TDs  Rec  Rec_Yds  Rec_Tds  \\\n",
       "2546    151.0      87.0     446.0    1998.0      10.0  2.0    -10.0      0.0   \n",
       "\n",
       "      Tkl  Def_Int   Sk College/Univ  \n",
       "2546  9.0      NaN  NaN         Utah  "
      ]
     },
     "execution_count": 24,
     "metadata": {},
     "output_type": "execute_result"
    }
   ],
   "source": [
    "# draft2 dataframe had 2 Alex Smith's, checking there is now only one\n",
    "draft2.loc[draft2['name'] == 'Alex Smith']"
   ]
  },
  {
   "cell_type": "code",
   "execution_count": 25,
   "metadata": {},
   "outputs": [
    {
     "data": {
      "text/html": [
       "<div>\n",
       "<style>\n",
       "    .dataframe thead tr:only-child th {\n",
       "        text-align: right;\n",
       "    }\n",
       "\n",
       "    .dataframe thead th {\n",
       "        text-align: left;\n",
       "    }\n",
       "\n",
       "    .dataframe tbody tr th {\n",
       "        vertical-align: top;\n",
       "    }\n",
       "</style>\n",
       "<table border=\"1\" class=\"dataframe\">\n",
       "  <thead>\n",
       "    <tr style=\"text-align: right;\">\n",
       "      <th></th>\n",
       "      <th>year</th>\n",
       "      <th>round</th>\n",
       "      <th>picktotal</th>\n",
       "      <th>name</th>\n",
       "      <th>Age</th>\n",
       "      <th>Cmp</th>\n",
       "      <th>Pass_Att</th>\n",
       "      <th>Pass_Yds</th>\n",
       "      <th>Pass_TD</th>\n",
       "      <th>Pass_Int</th>\n",
       "      <th>Rush_Att</th>\n",
       "      <th>Rush_Yds</th>\n",
       "      <th>Rush_TDs</th>\n",
       "      <th>Rec</th>\n",
       "      <th>Rec_Yds</th>\n",
       "      <th>Rec_Tds</th>\n",
       "      <th>Tkl</th>\n",
       "      <th>Def_Int</th>\n",
       "      <th>Sk</th>\n",
       "      <th>College/Univ</th>\n",
       "    </tr>\n",
       "  </thead>\n",
       "  <tbody>\n",
       "    <tr>\n",
       "      <th>2616</th>\n",
       "      <td>2005</td>\n",
       "      <td>3.0</td>\n",
       "      <td>71</td>\n",
       "      <td>Alex Smith_dp</td>\n",
       "      <td>23.0</td>\n",
       "      <td>NaN</td>\n",
       "      <td>NaN</td>\n",
       "      <td>NaN</td>\n",
       "      <td>NaN</td>\n",
       "      <td>NaN</td>\n",
       "      <td>NaN</td>\n",
       "      <td>NaN</td>\n",
       "      <td>NaN</td>\n",
       "      <td>163.0</td>\n",
       "      <td>1473.0</td>\n",
       "      <td>13.0</td>\n",
       "      <td>12.0</td>\n",
       "      <td>NaN</td>\n",
       "      <td>NaN</td>\n",
       "      <td>Stanford</td>\n",
       "    </tr>\n",
       "  </tbody>\n",
       "</table>\n",
       "</div>"
      ],
      "text/plain": [
       "      year  round  picktotal           name   Age  Cmp  Pass_Att  Pass_Yds  \\\n",
       "2616  2005    3.0         71  Alex Smith_dp  23.0  NaN       NaN       NaN   \n",
       "\n",
       "      Pass_TD  Pass_Int  Rush_Att  Rush_Yds  Rush_TDs    Rec  Rec_Yds  \\\n",
       "2616      NaN       NaN       NaN       NaN       NaN  163.0   1473.0   \n",
       "\n",
       "      Rec_Tds   Tkl  Def_Int   Sk College/Univ  \n",
       "2616     13.0  12.0      NaN  NaN     Stanford  "
      ]
     },
     "execution_count": 25,
     "metadata": {},
     "output_type": "execute_result"
    }
   ],
   "source": [
    "# Making sure the other Alex Smith is now Alex Smith_dp\n",
    "draft2.loc[draft2['name'] == 'Alex Smith_dp']"
   ]
  },
  {
   "cell_type": "markdown",
   "metadata": {},
   "source": [
    "Merge both data sets by doing a left merge and using name and year as the keys. Successful merge! :)"
   ]
  },
  {
   "cell_type": "code",
   "execution_count": 26,
   "metadata": {},
   "outputs": [
    {
     "data": {
      "text/plain": [
       "(4822, 33)"
      ]
     },
     "execution_count": 26,
     "metadata": {},
     "output_type": "execute_result"
    }
   ],
   "source": [
    "# left merge of dataframes nflnan and draft2 using name and year as keys to create new dataframe i\n",
    "i = pd.merge(nflnan, draft2, how = 'left', on=['name','year'])\n",
    "i.shape"
   ]
  },
  {
   "cell_type": "markdown",
   "metadata": {},
   "source": [
    "Making sure no duplicate names in our new, merged data set. No duplicates, success!"
   ]
  },
  {
   "cell_type": "code",
   "execution_count": 27,
   "metadata": {},
   "outputs": [
    {
     "data": {
      "text/plain": [
       "name            year\n",
       "Ziggy Ansah     2013    1\n",
       "Duke Ihenacho   2012    1\n",
       "Duke Preston    2005    1\n",
       "Duke Robinson   2009    1\n",
       "Dunta Robinson  2004    1\n",
       "dtype: int64"
      ]
     },
     "execution_count": 27,
     "metadata": {},
     "output_type": "execute_result"
    }
   ],
   "source": [
    "# Check for no duplicate names in merged dataframe\n",
    "_=no_dupi = i.groupby([\"name\",\"year\"]).size().sort_values(ascending=False)\n",
    "no_dupi.head()"
   ]
  },
  {
   "cell_type": "markdown",
   "metadata": {},
   "source": [
    "Peaking at the column headers, to get an idea of what columns I need to drop"
   ]
  },
  {
   "cell_type": "code",
   "execution_count": 28,
   "metadata": {},
   "outputs": [
    {
     "data": {
      "text/plain": [
       "Index([u'year', u'name', u'position', u'heightinchestotal', u'weight',\n",
       "       u'fortyyd', u'twentyss', u'threecone', u'vertical', u'broad', u'bench',\n",
       "       u'round_x', u'college', u'picktotal_x', u'nflgrade', u'round_y',\n",
       "       u'picktotal_y', u'Age', u'Cmp', u'Pass_Att', u'Pass_Yds', u'Pass_TD',\n",
       "       u'Pass_Int', u'Rush_Att', u'Rush_Yds', u'Rush_TDs', u'Rec', u'Rec_Yds',\n",
       "       u'Rec_Tds', u'Tkl', u'Def_Int', u'Sk', u'College/Univ'],\n",
       "      dtype='object')"
      ]
     },
     "execution_count": 28,
     "metadata": {},
     "output_type": "execute_result"
    }
   ],
   "source": [
    "# i dataframe column headers\n",
    "i.columns"
   ]
  },
  {
   "cell_type": "markdown",
   "metadata": {},
   "source": [
    "Drop more insignificant columns and changed some of the names"
   ]
  },
  {
   "cell_type": "code",
   "execution_count": 29,
   "metadata": {},
   "outputs": [
    {
     "data": {
      "text/plain": [
       "['year',\n",
       " 'name',\n",
       " 'position',\n",
       " 'height',\n",
       " 'weight',\n",
       " 'fortyyd',\n",
       " 'twentyss',\n",
       " 'threecone',\n",
       " 'vertical',\n",
       " 'broad',\n",
       " 'bench',\n",
       " 'picktotal']"
      ]
     },
     "execution_count": 29,
     "metadata": {},
     "output_type": "execute_result"
    }
   ],
   "source": [
    "# drop insignificant or redundant columns from newdf dataframe\n",
    "newdf = (i.drop(['nflgrade','round_x','picktotal_x','Cmp','Pass_Att','Pass_Yds','Pass_TD','Pass_Int','Rush_Att',\n",
    "                'Rush_Yds','Rush_TDs','Rec','Rec_Yds','Rec_Tds','Tkl','Def_Int','Sk','Age','college','College/Univ',\n",
    "                 'round_y'],axis=1))\n",
    "\n",
    "# rename column header in newdf dataframe\n",
    "newdf = newdf.rename(columns={'picktotal_y': 'picktotal', 'heightinchestotal': 'height'})\n",
    "list(newdf.columns.values)"
   ]
  },
  {
   "cell_type": "markdown",
   "metadata": {},
   "source": [
    "Check to see if players from 2015 now have values in column picktotal. Success!"
   ]
  },
  {
   "cell_type": "code",
   "execution_count": 30,
   "metadata": {},
   "outputs": [
    {
     "data": {
      "text/html": [
       "<div>\n",
       "<style>\n",
       "    .dataframe thead tr:only-child th {\n",
       "        text-align: right;\n",
       "    }\n",
       "\n",
       "    .dataframe thead th {\n",
       "        text-align: left;\n",
       "    }\n",
       "\n",
       "    .dataframe tbody tr th {\n",
       "        vertical-align: top;\n",
       "    }\n",
       "</style>\n",
       "<table border=\"1\" class=\"dataframe\">\n",
       "  <thead>\n",
       "    <tr style=\"text-align: right;\">\n",
       "      <th></th>\n",
       "      <th>year</th>\n",
       "      <th>name</th>\n",
       "      <th>picktotal</th>\n",
       "    </tr>\n",
       "  </thead>\n",
       "  <tbody>\n",
       "    <tr>\n",
       "      <th>0</th>\n",
       "      <td>2015</td>\n",
       "      <td>Ameer Abdullah</td>\n",
       "      <td>54.0</td>\n",
       "    </tr>\n",
       "    <tr>\n",
       "      <th>1</th>\n",
       "      <td>2015</td>\n",
       "      <td>Nelson Agholor</td>\n",
       "      <td>20.0</td>\n",
       "    </tr>\n",
       "    <tr>\n",
       "      <th>2</th>\n",
       "      <td>2015</td>\n",
       "      <td>Jay Ajayi</td>\n",
       "      <td>149.0</td>\n",
       "    </tr>\n",
       "    <tr>\n",
       "      <th>3</th>\n",
       "      <td>2015</td>\n",
       "      <td>Kwon Alexander</td>\n",
       "      <td>124.0</td>\n",
       "    </tr>\n",
       "    <tr>\n",
       "      <th>4</th>\n",
       "      <td>2015</td>\n",
       "      <td>Mario Alford</td>\n",
       "      <td>238.0</td>\n",
       "    </tr>\n",
       "    <tr>\n",
       "      <th>5</th>\n",
       "      <td>2015</td>\n",
       "      <td>Javorius Allen</td>\n",
       "      <td>125.0</td>\n",
       "    </tr>\n",
       "    <tr>\n",
       "      <th>6</th>\n",
       "      <td>2015</td>\n",
       "      <td>Adrian Amos</td>\n",
       "      <td>142.0</td>\n",
       "    </tr>\n",
       "    <tr>\n",
       "      <th>7</th>\n",
       "      <td>2015</td>\n",
       "      <td>Dres Anderson</td>\n",
       "      <td>NaN</td>\n",
       "    </tr>\n",
       "    <tr>\n",
       "      <th>8</th>\n",
       "      <td>2015</td>\n",
       "      <td>Henry Anderson</td>\n",
       "      <td>93.0</td>\n",
       "    </tr>\n",
       "    <tr>\n",
       "      <th>9</th>\n",
       "      <td>2015</td>\n",
       "      <td>Rory 'Busta' Anderson</td>\n",
       "      <td>254.0</td>\n",
       "    </tr>\n",
       "  </tbody>\n",
       "</table>\n",
       "</div>"
      ],
      "text/plain": [
       "   year                   name  picktotal\n",
       "0  2015         Ameer Abdullah       54.0\n",
       "1  2015         Nelson Agholor       20.0\n",
       "2  2015              Jay Ajayi      149.0\n",
       "3  2015         Kwon Alexander      124.0\n",
       "4  2015           Mario Alford      238.0\n",
       "5  2015         Javorius Allen      125.0\n",
       "6  2015            Adrian Amos      142.0\n",
       "7  2015          Dres Anderson        NaN\n",
       "8  2015         Henry Anderson       93.0\n",
       "9  2015  Rory 'Busta' Anderson      254.0"
      ]
     },
     "execution_count": 30,
     "metadata": {},
     "output_type": "execute_result"
    }
   ],
   "source": [
    "# nflnan dataframe did not have any values for column picktotal for all 2015 players\n",
    "# after the merge, now all 2015 players that were drafted have a value in column picktotal\n",
    "newdf1 = newdf[['year','name','picktotal']]\n",
    "newdf1.head(10)"
   ]
  },
  {
   "cell_type": "markdown",
   "metadata": {},
   "source": [
    "With the 2 data sets, successfully merged, no longer need the player names or years, hence dropped those columns"
   ]
  },
  {
   "cell_type": "code",
   "execution_count": 31,
   "metadata": {},
   "outputs": [
    {
     "data": {
      "text/plain": [
       "['position',\n",
       " 'height',\n",
       " 'weight',\n",
       " 'fortyyd',\n",
       " 'twentyss',\n",
       " 'threecone',\n",
       " 'vertical',\n",
       " 'broad',\n",
       " 'bench',\n",
       " 'picktotal']"
      ]
     },
     "execution_count": 31,
     "metadata": {},
     "output_type": "execute_result"
    }
   ],
   "source": [
    "# column year no longer needed and not significant or relevant for this study, therefore will drop it\n",
    "newdf2= (newdf.drop(['year','name'],axis=1))\n",
    "list(newdf2.columns.values)"
   ]
  },
  {
   "cell_type": "markdown",
   "metadata": {},
   "source": [
    "For this study, we are only analyzing players that were drafted by NFL teams, therefore will drop players from the data set who never got drafted. Finally, we have a data set that is ready to be analyzed!"
   ]
  },
  {
   "cell_type": "code",
   "execution_count": 32,
   "metadata": {},
   "outputs": [
    {
     "data": {
      "text/plain": [
       "(3133, 10)"
      ]
     },
     "execution_count": 32,
     "metadata": {},
     "output_type": "execute_result"
    }
   ],
   "source": [
    "# Drop players who never got drafted by an NFL team\n",
    "newdf = newdf2[np.isfinite(newdf2['picktotal'])]\n",
    "newdf.shape"
   ]
  },
  {
   "cell_type": "code",
   "execution_count": 33,
   "metadata": {},
   "outputs": [
    {
     "data": {
      "text/html": [
       "<div>\n",
       "<style>\n",
       "    .dataframe thead tr:only-child th {\n",
       "        text-align: right;\n",
       "    }\n",
       "\n",
       "    .dataframe thead th {\n",
       "        text-align: left;\n",
       "    }\n",
       "\n",
       "    .dataframe tbody tr th {\n",
       "        vertical-align: top;\n",
       "    }\n",
       "</style>\n",
       "<table border=\"1\" class=\"dataframe\">\n",
       "  <thead>\n",
       "    <tr style=\"text-align: right;\">\n",
       "      <th></th>\n",
       "      <th>position</th>\n",
       "      <th>height</th>\n",
       "      <th>weight</th>\n",
       "      <th>fortyyd</th>\n",
       "      <th>twentyss</th>\n",
       "      <th>threecone</th>\n",
       "      <th>vertical</th>\n",
       "      <th>broad</th>\n",
       "      <th>bench</th>\n",
       "      <th>picktotal</th>\n",
       "    </tr>\n",
       "  </thead>\n",
       "  <tbody>\n",
       "    <tr>\n",
       "      <th>0</th>\n",
       "      <td>RB</td>\n",
       "      <td>69.0</td>\n",
       "      <td>205</td>\n",
       "      <td>4.60</td>\n",
       "      <td>3.95</td>\n",
       "      <td>6.79</td>\n",
       "      <td>42.5</td>\n",
       "      <td>130.0</td>\n",
       "      <td>24.0</td>\n",
       "      <td>54.0</td>\n",
       "    </tr>\n",
       "    <tr>\n",
       "      <th>1</th>\n",
       "      <td>WR</td>\n",
       "      <td>72.0</td>\n",
       "      <td>198</td>\n",
       "      <td>4.42</td>\n",
       "      <td>NaN</td>\n",
       "      <td>NaN</td>\n",
       "      <td>NaN</td>\n",
       "      <td>NaN</td>\n",
       "      <td>12.0</td>\n",
       "      <td>20.0</td>\n",
       "    </tr>\n",
       "    <tr>\n",
       "      <th>2</th>\n",
       "      <td>RB</td>\n",
       "      <td>72.0</td>\n",
       "      <td>221</td>\n",
       "      <td>4.57</td>\n",
       "      <td>4.10</td>\n",
       "      <td>7.10</td>\n",
       "      <td>39.0</td>\n",
       "      <td>121.0</td>\n",
       "      <td>19.0</td>\n",
       "      <td>149.0</td>\n",
       "    </tr>\n",
       "    <tr>\n",
       "      <th>3</th>\n",
       "      <td>OLB</td>\n",
       "      <td>73.0</td>\n",
       "      <td>227</td>\n",
       "      <td>4.55</td>\n",
       "      <td>4.20</td>\n",
       "      <td>7.14</td>\n",
       "      <td>36.0</td>\n",
       "      <td>121.0</td>\n",
       "      <td>24.0</td>\n",
       "      <td>124.0</td>\n",
       "    </tr>\n",
       "    <tr>\n",
       "      <th>4</th>\n",
       "      <td>WR</td>\n",
       "      <td>68.0</td>\n",
       "      <td>180</td>\n",
       "      <td>4.43</td>\n",
       "      <td>4.07</td>\n",
       "      <td>6.64</td>\n",
       "      <td>34.0</td>\n",
       "      <td>121.0</td>\n",
       "      <td>13.0</td>\n",
       "      <td>238.0</td>\n",
       "    </tr>\n",
       "  </tbody>\n",
       "</table>\n",
       "</div>"
      ],
      "text/plain": [
       "  position  height  weight  fortyyd  twentyss  threecone  vertical  broad  \\\n",
       "0       RB    69.0     205     4.60      3.95       6.79      42.5  130.0   \n",
       "1       WR    72.0     198     4.42       NaN        NaN       NaN    NaN   \n",
       "2       RB    72.0     221     4.57      4.10       7.10      39.0  121.0   \n",
       "3      OLB    73.0     227     4.55      4.20       7.14      36.0  121.0   \n",
       "4       WR    68.0     180     4.43      4.07       6.64      34.0  121.0   \n",
       "\n",
       "   bench  picktotal  \n",
       "0   24.0       54.0  \n",
       "1   12.0       20.0  \n",
       "2   19.0      149.0  \n",
       "3   24.0      124.0  \n",
       "4   13.0      238.0  "
      ]
     },
     "execution_count": 33,
     "metadata": {},
     "output_type": "execute_result"
    }
   ],
   "source": [
    "# Print first few rows of new data set to take a look at it\n",
    "newdf.head()"
   ]
  },
  {
   "cell_type": "markdown",
   "metadata": {},
   "source": [
    "Export datasets for other sections"
   ]
  },
  {
   "cell_type": "code",
   "execution_count": 34,
   "metadata": {
    "collapsed": true
   },
   "outputs": [],
   "source": [
    "newdf.to_csv('newdf.csv', index=False)"
   ]
  },
  {
   "cell_type": "code",
   "execution_count": 35,
   "metadata": {
    "collapsed": true
   },
   "outputs": [],
   "source": [
    "newdf2.to_csv('newdf2.csv', index=False)"
   ]
  },
  {
   "cell_type": "markdown",
   "metadata": {},
   "source": [
    "Check out the next section Exploratory Data Analysis.."
   ]
  }
 ],
 "metadata": {
  "kernelspec": {
   "display_name": "Python 2",
   "language": "python",
   "name": "python2"
  },
  "language_info": {
   "codemirror_mode": {
    "name": "ipython",
    "version": 2
   },
   "file_extension": ".py",
   "mimetype": "text/x-python",
   "name": "python",
   "nbconvert_exporter": "python",
   "pygments_lexer": "ipython2",
   "version": "2.7.14"
  }
 },
 "nbformat": 4,
 "nbformat_minor": 2
}
